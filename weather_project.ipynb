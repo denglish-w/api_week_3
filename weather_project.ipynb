{
 "cells": [
  {
   "cell_type": "code",
   "execution_count": null,
   "id": "7b791d7d",
   "metadata": {},
   "outputs": [],
   "source": [
    "import pandas as pd\n",
    "import requests\n",
    "from datetime import datetime\n",
    "baseurl = \"http://api.weatherapi.com/v1\"\n",
    "key = ''\n",
    "\n"
   ]
  },
  {
   "cell_type": "code",
   "execution_count": 2,
   "id": "604339da",
   "metadata": {},
   "outputs": [],
   "source": [
    "city = 'Louisville'\n",
    "louisville_baseurl = f\"http://api.weatherapi.com/v1/current.json?key={key}&q={city}\"\n",
    "response = requests.get(louisville_baseurl)"
   ]
  },
  {
   "cell_type": "code",
   "execution_count": 3,
   "id": "bb01fc66",
   "metadata": {},
   "outputs": [
    {
     "data": {
      "text/plain": [
       "200"
      ]
     },
     "execution_count": 3,
     "metadata": {},
     "output_type": "execute_result"
    }
   ],
   "source": [
    "response.status_code"
   ]
  },
  {
   "cell_type": "code",
   "execution_count": 4,
   "id": "2011cf9f",
   "metadata": {},
   "outputs": [
    {
     "data": {
      "text/plain": [
       "{'location': {'name': 'Louisville',\n",
       "  'region': 'Kentucky',\n",
       "  'country': 'United States of America',\n",
       "  'lat': 38.2542,\n",
       "  'lon': -85.7594,\n",
       "  'tz_id': 'America/Kentucky/Louisville',\n",
       "  'localtime_epoch': 1757786981,\n",
       "  'localtime': '2025-09-13 14:09'},\n",
       " 'current': {'last_updated_epoch': 1757786400,\n",
       "  'last_updated': '2025-09-13 14:00',\n",
       "  'temp_c': 29.4,\n",
       "  'temp_f': 84.9,\n",
       "  'is_day': 1,\n",
       "  'condition': {'text': 'Sunny',\n",
       "   'icon': '//cdn.weatherapi.com/weather/64x64/day/113.png',\n",
       "   'code': 1000},\n",
       "  'wind_mph': 3.1,\n",
       "  'wind_kph': 5.0,\n",
       "  'wind_degree': 281,\n",
       "  'wind_dir': 'WNW',\n",
       "  'pressure_mb': 1020.0,\n",
       "  'pressure_in': 30.12,\n",
       "  'precip_mm': 0.0,\n",
       "  'precip_in': 0.0,\n",
       "  'humidity': 39,\n",
       "  'cloud': 0,\n",
       "  'feelslike_c': 29.0,\n",
       "  'feelslike_f': 84.1,\n",
       "  'windchill_c': 31.0,\n",
       "  'windchill_f': 87.8,\n",
       "  'heatindex_c': 31.1,\n",
       "  'heatindex_f': 88.0,\n",
       "  'dewpoint_c': 14.8,\n",
       "  'dewpoint_f': 58.6,\n",
       "  'vis_km': 16.0,\n",
       "  'vis_miles': 9.0,\n",
       "  'uv': 7.0,\n",
       "  'gust_mph': 3.6,\n",
       "  'gust_kph': 5.8,\n",
       "  'short_rad': 548.86,\n",
       "  'diff_rad': 102.92,\n",
       "  'dni': 1221.0,\n",
       "  'gti': 294.73}}"
      ]
     },
     "execution_count": 4,
     "metadata": {},
     "output_type": "execute_result"
    }
   ],
   "source": [
    "data = response.json()\n",
    "data"
   ]
  },
  {
   "cell_type": "code",
   "execution_count": 5,
   "id": "01772a9f",
   "metadata": {},
   "outputs": [],
   "source": [
    "current = data['current']\n",
    "location = data['location']\n",
    "temp_f = current['temp_f']\n",
    "wind = current['wind_mph']\n",
    "humdity = current['humidity']"
   ]
  },
  {
   "cell_type": "code",
   "execution_count": 6,
   "id": "d101c98f",
   "metadata": {},
   "outputs": [
    {
     "data": {
      "text/plain": [
       "84.9"
      ]
     },
     "execution_count": 6,
     "metadata": {},
     "output_type": "execute_result"
    }
   ],
   "source": [
    "temp_f"
   ]
  },
  {
   "cell_type": "code",
   "execution_count": 7,
   "id": "d93c1418",
   "metadata": {},
   "outputs": [],
   "source": [
    "def get_weather(city):\n",
    "    url = f\"http://api.weatherapi.com/v1/current.json?key={key}&q={city}\"\n",
    "    response = requests.get(url)\n",
    "    if response.status_code == 200:\n",
    "        data = response.json()\n",
    "        current = data['current']\n",
    "        location = data['location']\n",
    "        temp_f = current['temp_f']\n",
    "        wind = current['wind_mph']\n",
    "        humdity = current['humidity']\n",
    "    \n",
    "        print(f'Weather for {location['name']}, {location['region']}')\n",
    "        print(f'Temperature: {current['temp_f']} F / {current['temp_c']} C')\n",
    "        print(f'Condition: {current['condition']['text']}')\n",
    "        print(f'Humidity: {current['humidity']}%')\n",
    "        print(f'Wind Speed: {current['wind_mph']} mph')\n",
    "    else:\n",
    "        print(f'error fetching data for {city}: {response.status_code}')"
   ]
  },
  {
   "cell_type": "code",
   "execution_count": 8,
   "id": "b9e1b9ee",
   "metadata": {},
   "outputs": [
    {
     "name": "stdout",
     "output_type": "stream",
     "text": [
      "Weather for Jacksonville, Florida\n",
      "Temperature: 84.0 F / 28.9 C\n",
      "Condition: Partly cloudy\n",
      "Humidity: 53%\n",
      "Wind Speed: 13.9 mph\n"
     ]
    }
   ],
   "source": [
    "get_weather('Jacksonville')"
   ]
  },
  {
   "cell_type": "code",
   "execution_count": 9,
   "id": "08b8ec28",
   "metadata": {},
   "outputs": [],
   "source": [
    "cities = ['minneapolis', 'new york', 'jacksonville', 'dubai']\n",
    "weather_data = []\n",
    "\n",
    "for city in cities:\n",
    "    url = f\"http://api.weatherapi.com/v1/current.json?key={key}&q={city}\"\n",
    "    response.status_code\n",
    "    if response.status_code == 200:\n",
    "        data = response.json()\n",
    "        weather_data.append({\n",
    "            \"city\": data['location']['name'],\n",
    "            'temperature': data['current']['temp_f'],\n",
    "            'condition': data['current']['condition']['text'],\n",
    "            'humidity': data['current']['humidity'],\n",
    "            'wind speed': data['current']['wind_mph'],\n",
    "            })\n",
    "    else: \n",
    "        print('error fetching data')\n",
    "        \n",
    " \n",
    "    "
   ]
  },
  {
   "cell_type": "code",
   "execution_count": 10,
   "id": "3fe419ba",
   "metadata": {},
   "outputs": [],
   "source": [
    "weather_df = pd.DataFrame(weather_data)"
   ]
  },
  {
   "cell_type": "code",
   "execution_count": 11,
   "id": "d9fc74f5",
   "metadata": {},
   "outputs": [
    {
     "data": {
      "text/html": [
       "<div>\n",
       "<style scoped>\n",
       "    .dataframe tbody tr th:only-of-type {\n",
       "        vertical-align: middle;\n",
       "    }\n",
       "\n",
       "    .dataframe tbody tr th {\n",
       "        vertical-align: top;\n",
       "    }\n",
       "\n",
       "    .dataframe thead th {\n",
       "        text-align: right;\n",
       "    }\n",
       "</style>\n",
       "<table border=\"1\" class=\"dataframe\">\n",
       "  <thead>\n",
       "    <tr style=\"text-align: right;\">\n",
       "      <th></th>\n",
       "      <th>city</th>\n",
       "      <th>temperature</th>\n",
       "      <th>condition</th>\n",
       "      <th>humidity</th>\n",
       "      <th>wind speed</th>\n",
       "    </tr>\n",
       "  </thead>\n",
       "  <tbody>\n",
       "    <tr>\n",
       "      <th>0</th>\n",
       "      <td>Louisville</td>\n",
       "      <td>84.9</td>\n",
       "      <td>Sunny</td>\n",
       "      <td>39</td>\n",
       "      <td>3.1</td>\n",
       "    </tr>\n",
       "    <tr>\n",
       "      <th>1</th>\n",
       "      <td>Louisville</td>\n",
       "      <td>84.9</td>\n",
       "      <td>Sunny</td>\n",
       "      <td>39</td>\n",
       "      <td>3.1</td>\n",
       "    </tr>\n",
       "    <tr>\n",
       "      <th>2</th>\n",
       "      <td>Louisville</td>\n",
       "      <td>84.9</td>\n",
       "      <td>Sunny</td>\n",
       "      <td>39</td>\n",
       "      <td>3.1</td>\n",
       "    </tr>\n",
       "    <tr>\n",
       "      <th>3</th>\n",
       "      <td>Louisville</td>\n",
       "      <td>84.9</td>\n",
       "      <td>Sunny</td>\n",
       "      <td>39</td>\n",
       "      <td>3.1</td>\n",
       "    </tr>\n",
       "  </tbody>\n",
       "</table>\n",
       "</div>"
      ],
      "text/plain": [
       "         city  temperature condition  humidity  wind speed\n",
       "0  Louisville         84.9     Sunny        39         3.1\n",
       "1  Louisville         84.9     Sunny        39         3.1\n",
       "2  Louisville         84.9     Sunny        39         3.1\n",
       "3  Louisville         84.9     Sunny        39         3.1"
      ]
     },
     "execution_count": 11,
     "metadata": {},
     "output_type": "execute_result"
    }
   ],
   "source": [
    "weather_df.head()"
   ]
  },
  {
   "cell_type": "code",
   "execution_count": 13,
   "id": "2c83d7ed",
   "metadata": {},
   "outputs": [],
   "source": [
    "weather_df.to_csv('sampleWeatherData.csv', index=False)"
   ]
  },
  {
   "cell_type": "code",
   "execution_count": null,
   "id": "0c21d5c1",
   "metadata": {},
   "outputs": [],
   "source": []
  }
 ],
 "metadata": {
  "kernelspec": {
   "display_name": "Python 3",
   "language": "python",
   "name": "python3"
  },
  "language_info": {
   "codemirror_mode": {
    "name": "ipython",
    "version": 3
   },
   "file_extension": ".py",
   "mimetype": "text/x-python",
   "name": "python",
   "nbconvert_exporter": "python",
   "pygments_lexer": "ipython3",
   "version": "3.13.6"
  }
 },
 "nbformat": 4,
 "nbformat_minor": 5
}
