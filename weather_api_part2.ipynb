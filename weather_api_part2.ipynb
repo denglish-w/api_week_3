{
 "cells": [
  {
   "cell_type": "code",
   "execution_count": 1,
   "id": "e86f6df8",
   "metadata": {},
   "outputs": [],
   "source": [
    "import requests\n",
    "import pandas as pd\n",
    "from datetime import datetime"
   ]
  },
  {
   "cell_type": "code",
   "execution_count": null,
   "id": "04e9acde",
   "metadata": {},
   "outputs": [
    {
     "data": {
      "text/plain": [
       "'http://api.weatherapi.com/v1/current.json?0e2ac859639c4175be5173434251309&q=Louisville'"
      ]
     },
     "execution_count": 2,
     "metadata": {},
     "output_type": "execute_result"
    }
   ],
   "source": [
    "key = ''\n",
    "baseurl = 'http://api.weatherapi.com/v1/'\n",
    "\n",
    "city = 'Louisville'\n",
    "f\"http://api.weatherapi.com/v1/current.json?{key}&q={city}\"\n"
   ]
  },
  {
   "cell_type": "code",
   "execution_count": 3,
   "id": "911ff0b0",
   "metadata": {},
   "outputs": [
    {
     "data": {
      "text/plain": [
       "200"
      ]
     },
     "execution_count": 3,
     "metadata": {},
     "output_type": "execute_result"
    }
   ],
   "source": [
    "response = requests.get(f\"http://api.weatherapi.com/v1/current.json?key={key}&q={city}\")\n",
    "response.status_code"
   ]
  },
  {
   "cell_type": "code",
   "execution_count": 4,
   "id": "92374539",
   "metadata": {},
   "outputs": [
    {
     "data": {
      "text/plain": [
       "{'location': {'name': 'Louisville',\n",
       "  'region': 'Kentucky',\n",
       "  'country': 'United States of America',\n",
       "  'lat': 38.2542,\n",
       "  'lon': -85.7594,\n",
       "  'tz_id': 'America/Kentucky/Louisville',\n",
       "  'localtime_epoch': 1757976447,\n",
       "  'localtime': '2025-09-15 18:47'},\n",
       " 'current': {'last_updated_epoch': 1757976300,\n",
       "  'last_updated': '2025-09-15 18:45',\n",
       "  'temp_c': 32.8,\n",
       "  'temp_f': 91.0,\n",
       "  'is_day': 1,\n",
       "  'condition': {'text': 'Sunny',\n",
       "   'icon': '//cdn.weatherapi.com/weather/64x64/day/113.png',\n",
       "   'code': 1000},\n",
       "  'wind_mph': 4.3,\n",
       "  'wind_kph': 6.8,\n",
       "  'wind_degree': 9,\n",
       "  'wind_dir': 'N',\n",
       "  'pressure_mb': 1018.0,\n",
       "  'pressure_in': 30.07,\n",
       "  'precip_mm': 0.0,\n",
       "  'precip_in': 0.0,\n",
       "  'humidity': 34,\n",
       "  'cloud': 0,\n",
       "  'feelslike_c': 34.1,\n",
       "  'feelslike_f': 93.3,\n",
       "  'windchill_c': 31.4,\n",
       "  'windchill_f': 88.5,\n",
       "  'heatindex_c': 32.3,\n",
       "  'heatindex_f': 90.1,\n",
       "  'dewpoint_c': 16.8,\n",
       "  'dewpoint_f': 62.3,\n",
       "  'vis_km': 16.0,\n",
       "  'vis_miles': 9.0,\n",
       "  'uv': 1.0,\n",
       "  'gust_mph': 5.3,\n",
       "  'gust_kph': 8.6,\n",
       "  'short_rad': 611.55,\n",
       "  'diff_rad': 93.49,\n",
       "  'dni': 0.0,\n",
       "  'gti': 96.58}}"
      ]
     },
     "execution_count": 4,
     "metadata": {},
     "output_type": "execute_result"
    }
   ],
   "source": [
    "data = response.json()\n",
    "data"
   ]
  },
  {
   "cell_type": "code",
   "execution_count": 5,
   "id": "5d88e11f",
   "metadata": {},
   "outputs": [
    {
     "data": {
      "text/plain": [
       "200"
      ]
     },
     "execution_count": 5,
     "metadata": {},
     "output_type": "execute_result"
    }
   ],
   "source": [
    "forecasturl = f\"{baseurl}forecast.json?key={key}&q={city}&days=3\"\n",
    "forecast_response = requests.get(forecasturl)\n",
    "forecast_response.status_code"
   ]
  },
  {
   "cell_type": "code",
   "execution_count": 6,
   "id": "e04ac337",
   "metadata": {},
   "outputs": [],
   "source": [
    "forecast_data = forecast_response.json()\n",
    "forecast = forecast_data['forecast']['forecastday']"
   ]
  },
  {
   "cell_type": "code",
   "execution_count": 7,
   "id": "0607fcbe",
   "metadata": {},
   "outputs": [],
   "source": [
    "forecast_3_days_summary = []\n",
    "for day in forecast:\n",
    "    forecast_3_days_summary.append(f\"{day['date']}: High {day['day']['maxtemp_f']}F - {day['day']['condition']['text']}\")"
   ]
  },
  {
   "cell_type": "code",
   "execution_count": 8,
   "id": "18956988",
   "metadata": {},
   "outputs": [
    {
     "data": {
      "text/plain": [
       "['2025-09-15: High 94.1F - Sunny',\n",
       " '2025-09-16: High 88.9F - Partly Cloudy ',\n",
       " '2025-09-17: High 84.0F - Partly Cloudy ']"
      ]
     },
     "execution_count": 8,
     "metadata": {},
     "output_type": "execute_result"
    }
   ],
   "source": [
    "forecast_3_days_summary"
   ]
  },
  {
   "cell_type": "code",
   "execution_count": 9,
   "id": "0445d3bb",
   "metadata": {},
   "outputs": [
    {
     "data": {
      "text/plain": [
       "['Monday, September 15: High 94.1F - Sunny',\n",
       " 'Tuesday, September 16: High 88.9F - Partly Cloudy ',\n",
       " 'Wednesday, September 17: High 84.0F - Partly Cloudy ']"
      ]
     },
     "execution_count": 9,
     "metadata": {},
     "output_type": "execute_result"
    }
   ],
   "source": [
    "forecast_3_days_summary = []\n",
    "for day in forecast:\n",
    "    date_obj = datetime.strptime(day['date'], '%Y-%m-%d')\n",
    "    formatted_date = date_obj.strftime('%A, %B %#d')\n",
    "    forecast_3_days_summary.append(f\"{formatted_date}: High {day['day']['maxtemp_f']}F - {day['day']['condition']['text']}\")\n",
    "    \n",
    "forecast_3_days_summary"
   ]
  },
  {
   "cell_type": "code",
   "execution_count": null,
   "id": "37729ee3",
   "metadata": {},
   "outputs": [],
   "source": [
    "baseurl = 'http://api.weatherapi.com/v1/'\n",
    "key = ''\n",
    "today = pd.Timestamp.now().strftime(\"%Y-%m-%d\")\n",
    "astronomy_url = f'{baseurl}astronomy.json?key={key}&q={city}&dt={today}'\n",
    "current_weatherurl = f'{baseurl}current.json?key={key}&q={city}'\n",
    "forecasturl = f'{baseurl}forecast.json?key={key}&q={city}&days=5'"
   ]
  },
  {
   "cell_type": "code",
   "execution_count": null,
   "id": "bb0556cb",
   "metadata": {},
   "outputs": [
    {
     "data": {
      "text/plain": [
       "'2025-09-15'"
      ]
     },
     "execution_count": 11,
     "metadata": {},
     "output_type": "execute_result"
    }
   ],
   "source": [
    "forecast = requests.get(forecasturl) # get a forecast\n",
    "forecast_response = forecast.json()\n",
    "forecast_response"
   ]
  },
  {
   "cell_type": "code",
   "execution_count": 48,
   "id": "d263475d",
   "metadata": {},
   "outputs": [],
   "source": [
    "# Put in sunrise time, sunset time, and moonphase\n",
    "#Write a function get_city_data() that takes some parameters city and api\n",
    "\n",
    "def get_city_data(city, api_key):\n",
    "    current_weather = requests.get(current_weatherurl)  # get current weather\n",
    "    cw_response = current_weather.json()\n",
    "    forecast = requests.get(forecasturl) # get a forecast\n",
    "    forecast_response = forecast.json()\n",
    "    astronomy = requests.get(astronomy_url) # get some astronomical data\n",
    "    astr_response = astronomy.json()\n",
    "    cj = { # combined json, just didn't want to type out 'combined_json' everytime\n",
    "        'current_weather': cw_response,\n",
    "        'forecast': forecast_response,\n",
    "        'astronomy': astr_response\n",
    "    }\n",
    "    if current_weather.status_code == 200 and forecast.status_code == 200 and astronomy.status_code == 200: #check if response is good\n",
    "        forecastday = []\n",
    "        for day in cj['forecast']['forecast']['forecastday']:\n",
    "            forecastday.append([\n",
    "                f'{day['date']}',\n",
    "                f'The maximum temperature for {day['date']} is {day['day']['maxtemp_f']}',\n",
    "                f'The average humidity for {day['date']} is {day['day']['avghumidity']}',\n",
    "                f'Sunrise is at {day['astro']['sunrise']}',\n",
    "                f'Sunset is at {day['astro']['sunset']}',\n",
    "                f'Moonrise is at {day['astro']['moonrise']}',\n",
    "                f'Moonphase is {day['astro']['moon_phase']}'\n",
    "            ])\n",
    "    \n",
    "        city_info = {\n",
    "            \"Temperature\": cj['current_weather']['current']['temp_f'],\n",
    "            \"Feels Like\": cj['current_weather']['current']['feelslike_f'],\n",
    "            \"Humidity\": cj['current_weather']['current']['humidity'],\n",
    "            \"Forecast\" : forecastday,\n",
    "            }\n",
    "        return city_info\n",
    "    else:\n",
    "        print('Error retreiving information from current weather')    \n",
    "        return None\n",
    "    \n",
    "    \n",
    "    #build a summary for the city and save that summary into a dictionary\n",
    "    \n",
    "    #then build a dataframe and save it as a CSV\n",
    "    \n",
    "    \n",
    "city_data = get_city_data(\"Louisville\", key)\n",
    "\n",
    "df = pd.DataFrame(city_data)\n",
    "\n",
    "df.to_csv(\"Weather_API.csv\")\n",
    "\n",
    " "
   ]
  }
 ],
 "metadata": {
  "kernelspec": {
   "display_name": "Python 3",
   "language": "python",
   "name": "python3"
  },
  "language_info": {
   "codemirror_mode": {
    "name": "ipython",
    "version": 3
   },
   "file_extension": ".py",
   "mimetype": "text/x-python",
   "name": "python",
   "nbconvert_exporter": "python",
   "pygments_lexer": "ipython3",
   "version": "3.13.6"
  }
 },
 "nbformat": 4,
 "nbformat_minor": 5
}
