{
 "cells": [
  {
   "cell_type": "code",
   "execution_count": 1,
   "id": "4020445b",
   "metadata": {},
   "outputs": [
    {
     "name": "stdout",
     "output_type": "stream",
     "text": [
      "https://randomfox.ca/images/1.jpg\n"
     ]
    }
   ],
   "source": [
    "import requests\n",
    "response = requests.get('http://randomfox.ca/floof')\n",
    "fox = response.json()\n",
    "print(fox['image'])"
   ]
  },
  {
   "cell_type": "code",
   "execution_count": 23,
   "id": "e319cf76",
   "metadata": {},
   "outputs": [
    {
     "name": "stdout",
     "output_type": "stream",
     "text": [
      "42\n",
      "1\n",
      "2\n",
      "3\n",
      "4\n",
      "5\n",
      "6\n",
      "7\n",
      "8\n",
      "9\n",
      "10\n",
      "11\n",
      "12\n",
      "13\n",
      "14\n",
      "15\n",
      "16\n",
      "17\n",
      "18\n",
      "19\n",
      "20\n",
      "21\n",
      "22\n",
      "23\n",
      "24\n",
      "25\n",
      "26\n",
      "27\n",
      "28\n",
      "29\n",
      "30\n",
      "31\n",
      "32\n",
      "33\n",
      "34\n",
      "35\n",
      "36\n",
      "37\n",
      "38\n",
      "39\n",
      "40\n",
      "41\n",
      "42\n"
     ]
    }
   ],
   "source": [
    "import requests\n",
    "import pandas as pd\n",
    "\n",
    "baseurl = 'https://rickandmortyapi.com/api/'\n",
    "endpoint = 'character'\n",
    "\n",
    "def main_request(baseurl, endpoint, x):\n",
    "    r = requests.get(baseurl + endpoint, f'?page={x}')\n",
    "    return r.json()\n",
    "\n",
    "def get_pages(response):\n",
    "    return response['info']['pages']\n",
    "\n",
    "def parse_json(response):\n",
    "    charlist = []\n",
    "    for item in response['results']:\n",
    "        char = {\n",
    "        'name': item['name'],\n",
    "        'no_ep': len(item['episode']),\n",
    "        }\n",
    "\n",
    "        charlist.append(char)\n",
    "    return charlist\n",
    "        \n",
    "\n",
    "data = main_request(baseurl, endpoint, 2)\n",
    "print(get_pages(data))\n",
    "\n",
    "mainlist = []\n",
    "data = main_request(baseurl, endpoint, 1)\n",
    "for x in range(1, get_pages(data)+1):\n",
    "    print(x)\n",
    "    mainlist.extend(parse_json(main_request(baseurl, endpoint, x)))\n",
    "\n",
    "df = pd.DataFrame(mainlist)\n",
    "df.to_csv('charlist.csv', index=False)\n"
   ]
  },
  {
   "cell_type": "code",
   "execution_count": null,
   "id": "0396d71c",
   "metadata": {},
   "outputs": [
    {
     "data": {
      "text/plain": [
       "51"
      ]
     },
     "execution_count": 20,
     "metadata": {},
     "output_type": "execute_result"
    }
   ],
   "source": [
    "\n"
   ]
  },
  {
   "cell_type": "code",
   "execution_count": null,
   "id": "ee3d4951",
   "metadata": {},
   "outputs": [],
   "source": []
  },
  {
   "cell_type": "code",
   "execution_count": null,
   "id": "f83aaa67",
   "metadata": {},
   "outputs": [],
   "source": []
  },
  {
   "cell_type": "code",
   "execution_count": null,
   "id": "ba51850a",
   "metadata": {},
   "outputs": [],
   "source": []
  },
  {
   "cell_type": "code",
   "execution_count": null,
   "id": "68a43186",
   "metadata": {},
   "outputs": [],
   "source": []
  },
  {
   "cell_type": "code",
   "execution_count": null,
   "id": "1c9cdcee",
   "metadata": {},
   "outputs": [],
   "source": []
  },
  {
   "cell_type": "code",
   "execution_count": null,
   "id": "4444196c",
   "metadata": {},
   "outputs": [],
   "source": []
  }
 ],
 "metadata": {
  "kernelspec": {
   "display_name": "Python 3",
   "language": "python",
   "name": "python3"
  },
  "language_info": {
   "codemirror_mode": {
    "name": "ipython",
    "version": 3
   },
   "file_extension": ".py",
   "mimetype": "text/x-python",
   "name": "python",
   "nbconvert_exporter": "python",
   "pygments_lexer": "ipython3",
   "version": "3.13.6"
  }
 },
 "nbformat": 4,
 "nbformat_minor": 5
}
